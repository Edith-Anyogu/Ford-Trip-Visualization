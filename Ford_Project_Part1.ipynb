{
  "cells": [
    {
      "cell_type": "markdown",
      "metadata": {
        "id": "3TF2hThZQ5TU"
      },
      "source": [
        "# Ford bike Data Exploration\n",
        "\n",
        "## Preliminary Wrangling\n",
        "\n",
        "This document explores a dataset containing users of a bike platform and their attributes."
      ]
    },
    {
      "cell_type": "code",
      "execution_count": null,
      "metadata": {
        "id": "C1V5Gu9EQ5UE"
      },
      "outputs": [],
      "source": [
        "# import all packages and set plots to be embedded inline\n",
        "import numpy as np\n",
        "import pandas as pd\n",
        "import matplotlib.pyplot as plt\n",
        "import seaborn as sb\n",
        "import datetime as dt\n",
        "from datetime import date\n",
        "\n",
        "%matplotlib inline"
      ]
    },
    {
      "cell_type": "code",
      "execution_count": null,
      "metadata": {
        "colab": {
          "base_uri": "https://localhost:8080/"
        },
        "id": "BFB3-ge4Q5Uc",
        "outputId": "2fcb29e7-dd5c-424b-f1fa-4d34967b5852"
      },
      "outputs": [
        {
          "output_type": "execute_result",
          "data": {
            "text/plain": [
              "(183412, 16)"
            ]
          },
          "metadata": {},
          "execution_count": 2
        }
      ],
      "source": [
        "# Read in the csv file\n",
        "ford = pd.read_csv('fordtrip.csv',parse_dates=['start_time','end_time'])\n",
        "# print few entries from the data\n",
        "ford.head()\n",
        "# print number of rows and columns\n",
        "ford.shape"
      ]
    },
    {
      "cell_type": "code",
      "execution_count": null,
      "metadata": {
        "colab": {
          "base_uri": "https://localhost:8080/"
        },
        "id": "oct8kqZxQ5Us",
        "outputId": "dfbb2a3f-0151-4bb1-cb61-807a616131ed"
      },
      "outputs": [
        {
          "output_type": "stream",
          "name": "stdout",
          "text": [
            "<class 'pandas.core.frame.DataFrame'>\n",
            "RangeIndex: 183412 entries, 0 to 183411\n",
            "Data columns (total 16 columns):\n",
            " #   Column                   Non-Null Count   Dtype         \n",
            "---  ------                   --------------   -----         \n",
            " 0   duration_sec             183412 non-null  int64         \n",
            " 1   start_time               183412 non-null  datetime64[ns]\n",
            " 2   end_time                 183412 non-null  datetime64[ns]\n",
            " 3   start_station_id         183215 non-null  float64       \n",
            " 4   start_station_name       183215 non-null  object        \n",
            " 5   start_station_latitude   183412 non-null  float64       \n",
            " 6   start_station_longitude  183412 non-null  float64       \n",
            " 7   end_station_id           183215 non-null  float64       \n",
            " 8   end_station_name         183215 non-null  object        \n",
            " 9   end_station_latitude     183412 non-null  float64       \n",
            " 10  end_station_longitude    183412 non-null  float64       \n",
            " 11  bike_id                  183412 non-null  int64         \n",
            " 12  user_type                183412 non-null  object        \n",
            " 13  member_birth_year        175147 non-null  float64       \n",
            " 14  member_gender            175147 non-null  object        \n",
            " 15  bike_share_for_all_trip  183412 non-null  object        \n",
            "dtypes: datetime64[ns](2), float64(7), int64(2), object(5)\n",
            "memory usage: 22.4+ MB\n"
          ]
        }
      ],
      "source": [
        "# print structure of the data\n",
        "ford.info()"
      ]
    },
    {
      "cell_type": "code",
      "execution_count": null,
      "metadata": {
        "colab": {
          "base_uri": "https://localhost:8080/"
        },
        "id": "0AssBt54Q5U0",
        "outputId": "4a921855-c095-4226-d129-7cfe809e6f65"
      },
      "outputs": [
        {
          "output_type": "execute_result",
          "data": {
            "text/plain": [
              "duration_sec                  0\n",
              "start_time                    0\n",
              "end_time                      0\n",
              "start_station_id            197\n",
              "start_station_name          197\n",
              "start_station_latitude        0\n",
              "start_station_longitude       0\n",
              "end_station_id              197\n",
              "end_station_name            197\n",
              "end_station_latitude          0\n",
              "end_station_longitude         0\n",
              "bike_id                       0\n",
              "user_type                     0\n",
              "member_birth_year          8265\n",
              "member_gender              8265\n",
              "bike_share_for_all_trip       0\n",
              "dtype: int64"
            ]
          },
          "metadata": {},
          "execution_count": 4
        }
      ],
      "source": [
        "# check for missing values\n",
        "ford.isnull().sum()"
      ]
    },
    {
      "cell_type": "code",
      "execution_count": null,
      "metadata": {
        "colab": {
          "base_uri": "https://localhost:8080/"
        },
        "id": "-WjZ1FpwQ5U8",
        "outputId": "9ce2c568-f046-4e8b-cd67-b7087e9351bf"
      },
      "outputs": [
        {
          "output_type": "execute_result",
          "data": {
            "text/plain": [
              "0"
            ]
          },
          "metadata": {},
          "execution_count": 5
        }
      ],
      "source": [
        "# check duplicated entries\n",
        "ford.duplicated().sum()"
      ]
    },
    {
      "cell_type": "code",
      "execution_count": null,
      "metadata": {
        "colab": {
          "base_uri": "https://localhost:8080/",
          "height": 364
        },
        "id": "JDDP7QnyQ5VE",
        "outputId": "8cec9962-1357-4325-cf2a-b261c8b40e6d"
      },
      "outputs": [
        {
          "output_type": "execute_result",
          "data": {
            "text/plain": [
              "        duration_sec  start_station_id  start_station_latitude  \\\n",
              "count  183412.000000     183215.000000           183412.000000   \n",
              "mean      726.078435        138.590427               37.771223   \n",
              "std      1794.389780        111.778864                0.099581   \n",
              "min        61.000000          3.000000               37.317298   \n",
              "25%       325.000000         47.000000               37.770083   \n",
              "50%       514.000000        104.000000               37.780760   \n",
              "75%       796.000000        239.000000               37.797280   \n",
              "max     85444.000000        398.000000               37.880222   \n",
              "\n",
              "       start_station_longitude  end_station_id  end_station_latitude  \\\n",
              "count            183412.000000   183215.000000         183412.000000   \n",
              "mean               -122.352664      136.249123             37.771427   \n",
              "std                   0.117097      111.515131              0.099490   \n",
              "min                -122.453704        3.000000             37.317298   \n",
              "25%                -122.412408       44.000000             37.770407   \n",
              "50%                -122.398285      100.000000             37.781010   \n",
              "75%                -122.286533      235.000000             37.797320   \n",
              "max                -121.874119      398.000000             37.880222   \n",
              "\n",
              "       end_station_longitude        bike_id  member_birth_year  \n",
              "count          183412.000000  183412.000000      175147.000000  \n",
              "mean             -122.352250    4472.906375        1984.806437  \n",
              "std                 0.116673    1664.383394          10.116689  \n",
              "min              -122.453704      11.000000        1878.000000  \n",
              "25%              -122.411726    3777.000000        1980.000000  \n",
              "50%              -122.398279    4958.000000        1987.000000  \n",
              "75%              -122.288045    5502.000000        1992.000000  \n",
              "max              -121.874119    6645.000000        2001.000000  "
            ],
            "text/html": [
              "\n",
              "  <div id=\"df-3718d5ec-0902-430d-b4bb-ddb7ed09af5f\">\n",
              "    <div class=\"colab-df-container\">\n",
              "      <div>\n",
              "<style scoped>\n",
              "    .dataframe tbody tr th:only-of-type {\n",
              "        vertical-align: middle;\n",
              "    }\n",
              "\n",
              "    .dataframe tbody tr th {\n",
              "        vertical-align: top;\n",
              "    }\n",
              "\n",
              "    .dataframe thead th {\n",
              "        text-align: right;\n",
              "    }\n",
              "</style>\n",
              "<table border=\"1\" class=\"dataframe\">\n",
              "  <thead>\n",
              "    <tr style=\"text-align: right;\">\n",
              "      <th></th>\n",
              "      <th>duration_sec</th>\n",
              "      <th>start_station_id</th>\n",
              "      <th>start_station_latitude</th>\n",
              "      <th>start_station_longitude</th>\n",
              "      <th>end_station_id</th>\n",
              "      <th>end_station_latitude</th>\n",
              "      <th>end_station_longitude</th>\n",
              "      <th>bike_id</th>\n",
              "      <th>member_birth_year</th>\n",
              "    </tr>\n",
              "  </thead>\n",
              "  <tbody>\n",
              "    <tr>\n",
              "      <th>count</th>\n",
              "      <td>183412.000000</td>\n",
              "      <td>183215.000000</td>\n",
              "      <td>183412.000000</td>\n",
              "      <td>183412.000000</td>\n",
              "      <td>183215.000000</td>\n",
              "      <td>183412.000000</td>\n",
              "      <td>183412.000000</td>\n",
              "      <td>183412.000000</td>\n",
              "      <td>175147.000000</td>\n",
              "    </tr>\n",
              "    <tr>\n",
              "      <th>mean</th>\n",
              "      <td>726.078435</td>\n",
              "      <td>138.590427</td>\n",
              "      <td>37.771223</td>\n",
              "      <td>-122.352664</td>\n",
              "      <td>136.249123</td>\n",
              "      <td>37.771427</td>\n",
              "      <td>-122.352250</td>\n",
              "      <td>4472.906375</td>\n",
              "      <td>1984.806437</td>\n",
              "    </tr>\n",
              "    <tr>\n",
              "      <th>std</th>\n",
              "      <td>1794.389780</td>\n",
              "      <td>111.778864</td>\n",
              "      <td>0.099581</td>\n",
              "      <td>0.117097</td>\n",
              "      <td>111.515131</td>\n",
              "      <td>0.099490</td>\n",
              "      <td>0.116673</td>\n",
              "      <td>1664.383394</td>\n",
              "      <td>10.116689</td>\n",
              "    </tr>\n",
              "    <tr>\n",
              "      <th>min</th>\n",
              "      <td>61.000000</td>\n",
              "      <td>3.000000</td>\n",
              "      <td>37.317298</td>\n",
              "      <td>-122.453704</td>\n",
              "      <td>3.000000</td>\n",
              "      <td>37.317298</td>\n",
              "      <td>-122.453704</td>\n",
              "      <td>11.000000</td>\n",
              "      <td>1878.000000</td>\n",
              "    </tr>\n",
              "    <tr>\n",
              "      <th>25%</th>\n",
              "      <td>325.000000</td>\n",
              "      <td>47.000000</td>\n",
              "      <td>37.770083</td>\n",
              "      <td>-122.412408</td>\n",
              "      <td>44.000000</td>\n",
              "      <td>37.770407</td>\n",
              "      <td>-122.411726</td>\n",
              "      <td>3777.000000</td>\n",
              "      <td>1980.000000</td>\n",
              "    </tr>\n",
              "    <tr>\n",
              "      <th>50%</th>\n",
              "      <td>514.000000</td>\n",
              "      <td>104.000000</td>\n",
              "      <td>37.780760</td>\n",
              "      <td>-122.398285</td>\n",
              "      <td>100.000000</td>\n",
              "      <td>37.781010</td>\n",
              "      <td>-122.398279</td>\n",
              "      <td>4958.000000</td>\n",
              "      <td>1987.000000</td>\n",
              "    </tr>\n",
              "    <tr>\n",
              "      <th>75%</th>\n",
              "      <td>796.000000</td>\n",
              "      <td>239.000000</td>\n",
              "      <td>37.797280</td>\n",
              "      <td>-122.286533</td>\n",
              "      <td>235.000000</td>\n",
              "      <td>37.797320</td>\n",
              "      <td>-122.288045</td>\n",
              "      <td>5502.000000</td>\n",
              "      <td>1992.000000</td>\n",
              "    </tr>\n",
              "    <tr>\n",
              "      <th>max</th>\n",
              "      <td>85444.000000</td>\n",
              "      <td>398.000000</td>\n",
              "      <td>37.880222</td>\n",
              "      <td>-121.874119</td>\n",
              "      <td>398.000000</td>\n",
              "      <td>37.880222</td>\n",
              "      <td>-121.874119</td>\n",
              "      <td>6645.000000</td>\n",
              "      <td>2001.000000</td>\n",
              "    </tr>\n",
              "  </tbody>\n",
              "</table>\n",
              "</div>\n",
              "      <button class=\"colab-df-convert\" onclick=\"convertToInteractive('df-3718d5ec-0902-430d-b4bb-ddb7ed09af5f')\"\n",
              "              title=\"Convert this dataframe to an interactive table.\"\n",
              "              style=\"display:none;\">\n",
              "        \n",
              "  <svg xmlns=\"http://www.w3.org/2000/svg\" height=\"24px\"viewBox=\"0 0 24 24\"\n",
              "       width=\"24px\">\n",
              "    <path d=\"M0 0h24v24H0V0z\" fill=\"none\"/>\n",
              "    <path d=\"M18.56 5.44l.94 2.06.94-2.06 2.06-.94-2.06-.94-.94-2.06-.94 2.06-2.06.94zm-11 1L8.5 8.5l.94-2.06 2.06-.94-2.06-.94L8.5 2.5l-.94 2.06-2.06.94zm10 10l.94 2.06.94-2.06 2.06-.94-2.06-.94-.94-2.06-.94 2.06-2.06.94z\"/><path d=\"M17.41 7.96l-1.37-1.37c-.4-.4-.92-.59-1.43-.59-.52 0-1.04.2-1.43.59L10.3 9.45l-7.72 7.72c-.78.78-.78 2.05 0 2.83L4 21.41c.39.39.9.59 1.41.59.51 0 1.02-.2 1.41-.59l7.78-7.78 2.81-2.81c.8-.78.8-2.07 0-2.86zM5.41 20L4 18.59l7.72-7.72 1.47 1.35L5.41 20z\"/>\n",
              "  </svg>\n",
              "      </button>\n",
              "      \n",
              "  <style>\n",
              "    .colab-df-container {\n",
              "      display:flex;\n",
              "      flex-wrap:wrap;\n",
              "      gap: 12px;\n",
              "    }\n",
              "\n",
              "    .colab-df-convert {\n",
              "      background-color: #E8F0FE;\n",
              "      border: none;\n",
              "      border-radius: 50%;\n",
              "      cursor: pointer;\n",
              "      display: none;\n",
              "      fill: #1967D2;\n",
              "      height: 32px;\n",
              "      padding: 0 0 0 0;\n",
              "      width: 32px;\n",
              "    }\n",
              "\n",
              "    .colab-df-convert:hover {\n",
              "      background-color: #E2EBFA;\n",
              "      box-shadow: 0px 1px 2px rgba(60, 64, 67, 0.3), 0px 1px 3px 1px rgba(60, 64, 67, 0.15);\n",
              "      fill: #174EA6;\n",
              "    }\n",
              "\n",
              "    [theme=dark] .colab-df-convert {\n",
              "      background-color: #3B4455;\n",
              "      fill: #D2E3FC;\n",
              "    }\n",
              "\n",
              "    [theme=dark] .colab-df-convert:hover {\n",
              "      background-color: #434B5C;\n",
              "      box-shadow: 0px 1px 3px 1px rgba(0, 0, 0, 0.15);\n",
              "      filter: drop-shadow(0px 1px 2px rgba(0, 0, 0, 0.3));\n",
              "      fill: #FFFFFF;\n",
              "    }\n",
              "  </style>\n",
              "\n",
              "      <script>\n",
              "        const buttonEl =\n",
              "          document.querySelector('#df-3718d5ec-0902-430d-b4bb-ddb7ed09af5f button.colab-df-convert');\n",
              "        buttonEl.style.display =\n",
              "          google.colab.kernel.accessAllowed ? 'block' : 'none';\n",
              "\n",
              "        async function convertToInteractive(key) {\n",
              "          const element = document.querySelector('#df-3718d5ec-0902-430d-b4bb-ddb7ed09af5f');\n",
              "          const dataTable =\n",
              "            await google.colab.kernel.invokeFunction('convertToInteractive',\n",
              "                                                     [key], {});\n",
              "          if (!dataTable) return;\n",
              "\n",
              "          const docLinkHtml = 'Like what you see? Visit the ' +\n",
              "            '<a target=\"_blank\" href=https://colab.research.google.com/notebooks/data_table.ipynb>data table notebook</a>'\n",
              "            + ' to learn more about interactive tables.';\n",
              "          element.innerHTML = '';\n",
              "          dataTable['output_type'] = 'display_data';\n",
              "          await google.colab.output.renderOutput(dataTable, element);\n",
              "          const docLink = document.createElement('div');\n",
              "          docLink.innerHTML = docLinkHtml;\n",
              "          element.appendChild(docLink);\n",
              "        }\n",
              "      </script>\n",
              "    </div>\n",
              "  </div>\n",
              "  "
            ]
          },
          "metadata": {},
          "execution_count": 6
        }
      ],
      "source": [
        "# statistical summary of numerical columns\n",
        "ford.describe()"
      ]
    },
    {
      "cell_type": "markdown",
      "source": [
        "**Data Cleaning**\n",
        "I will be cleaning some of the columns needed for exploration."
      ],
      "metadata": {
        "id": "ICBQUt1WvEpc"
      }
    },
    {
      "cell_type": "markdown",
      "metadata": {
        "id": "CiGNt44cQ5Vs"
      },
      "source": [
        "## Cleaning 1\n",
        "> Extract time and day ride started"
      ]
    },
    {
      "cell_type": "code",
      "execution_count": null,
      "metadata": {
        "id": "RiCTP6f0Q5V0"
      },
      "outputs": [],
      "source": [
        "# create a new column that shows hour bike ride started\n",
        "ford['hour_start'] = ford['start_time'].dt.hour\n",
        "# create a new column that shows the day bike ride started\n",
        "ford['start_day'] = ford['start_time'].dt.weekday\n"
      ]
    },
    {
      "cell_type": "markdown",
      "metadata": {
        "id": "TFMxJzWxQ5V0"
      },
      "source": [
        "## Cleaning 2\n",
        "> Convert duration in seconds to minutes"
      ]
    },
    {
      "cell_type": "code",
      "execution_count": null,
      "metadata": {
        "id": "DZvs_mIHQ5V8"
      },
      "outputs": [],
      "source": [
        "# convert duration from seconds to minutes\n",
        "ford['duration_in_minutes'] = ford['duration_sec']/60"
      ]
    },
    {
      "cell_type": "markdown",
      "metadata": {
        "id": "mTsboxxrQ5V8"
      },
      "source": [
        "## Cleaning 3\n",
        "Calculate age using member birth year"
      ]
    },
    {
      "cell_type": "code",
      "execution_count": null,
      "metadata": {
        "id": "V9T7AoYuQ5WE"
      },
      "outputs": [],
      "source": [
        "# calculate age as at 2019\n",
        "def age(member_birth_year):\n",
        "    return date.today().year - member_birth_year -3\n",
        "ford['age'] = ford['member_birth_year'].apply(age)"
      ]
    },
    {
      "cell_type": "markdown",
      "metadata": {
        "id": "uUhpYv0fQ5WE"
      },
      "source": [
        "## Cleaning 4 \n",
        "> Drop columns not needed for exploration"
      ]
    },
    {
      "cell_type": "markdown",
      "metadata": {
        "id": "4_jeI4eoQ5WM"
      },
      "source": [
        "## Test Changes"
      ]
    },
    {
      "cell_type": "code",
      "execution_count": null,
      "metadata": {
        "colab": {
          "base_uri": "https://localhost:8080/",
          "height": 228
        },
        "id": "z2EX0bvZQ5WM",
        "outputId": "070fc789-e21e-40b4-a66a-3c5ce180f5a6"
      },
      "outputs": [
        {
          "output_type": "execute_result",
          "data": {
            "text/plain": [
              "   duration_sec              start_time                end_time  \\\n",
              "0         52185 2019-02-28 17:32:10.145 2019-03-01 08:01:55.975   \n",
              "1         42521 2019-02-28 18:53:21.789 2019-03-01 06:42:03.056   \n",
              "\n",
              "   start_station_id                                start_station_name  \\\n",
              "0              21.0  Montgomery St BART Station (Market St at 2nd St)   \n",
              "1              23.0                     The Embarcadero at Steuart St   \n",
              "\n",
              "   start_station_latitude  start_station_longitude  end_station_id  \\\n",
              "0               37.789625              -122.400811            13.0   \n",
              "1               37.791464              -122.391034            81.0   \n",
              "\n",
              "                 end_station_name  end_station_latitude  \\\n",
              "0  Commercial St at Montgomery St             37.794231   \n",
              "1              Berry St at 4th St             37.775880   \n",
              "\n",
              "   end_station_longitude  bike_id user_type  member_birth_year member_gender  \\\n",
              "0            -122.402923     4902  Customer             1984.0          Male   \n",
              "1            -122.393170     2535  Customer                NaN           NaN   \n",
              "\n",
              "  bike_share_for_all_trip  hour_start  start_day  duration_in_minutes   age  \n",
              "0                      No          17          3           869.750000  35.0  \n",
              "1                      No          18          3           708.683333   NaN  "
            ],
            "text/html": [
              "\n",
              "  <div id=\"df-35302ac5-81cc-47b0-94b7-426a41ebeeda\">\n",
              "    <div class=\"colab-df-container\">\n",
              "      <div>\n",
              "<style scoped>\n",
              "    .dataframe tbody tr th:only-of-type {\n",
              "        vertical-align: middle;\n",
              "    }\n",
              "\n",
              "    .dataframe tbody tr th {\n",
              "        vertical-align: top;\n",
              "    }\n",
              "\n",
              "    .dataframe thead th {\n",
              "        text-align: right;\n",
              "    }\n",
              "</style>\n",
              "<table border=\"1\" class=\"dataframe\">\n",
              "  <thead>\n",
              "    <tr style=\"text-align: right;\">\n",
              "      <th></th>\n",
              "      <th>duration_sec</th>\n",
              "      <th>start_time</th>\n",
              "      <th>end_time</th>\n",
              "      <th>start_station_id</th>\n",
              "      <th>start_station_name</th>\n",
              "      <th>start_station_latitude</th>\n",
              "      <th>start_station_longitude</th>\n",
              "      <th>end_station_id</th>\n",
              "      <th>end_station_name</th>\n",
              "      <th>end_station_latitude</th>\n",
              "      <th>end_station_longitude</th>\n",
              "      <th>bike_id</th>\n",
              "      <th>user_type</th>\n",
              "      <th>member_birth_year</th>\n",
              "      <th>member_gender</th>\n",
              "      <th>bike_share_for_all_trip</th>\n",
              "      <th>hour_start</th>\n",
              "      <th>start_day</th>\n",
              "      <th>duration_in_minutes</th>\n",
              "      <th>age</th>\n",
              "    </tr>\n",
              "  </thead>\n",
              "  <tbody>\n",
              "    <tr>\n",
              "      <th>0</th>\n",
              "      <td>52185</td>\n",
              "      <td>2019-02-28 17:32:10.145</td>\n",
              "      <td>2019-03-01 08:01:55.975</td>\n",
              "      <td>21.0</td>\n",
              "      <td>Montgomery St BART Station (Market St at 2nd St)</td>\n",
              "      <td>37.789625</td>\n",
              "      <td>-122.400811</td>\n",
              "      <td>13.0</td>\n",
              "      <td>Commercial St at Montgomery St</td>\n",
              "      <td>37.794231</td>\n",
              "      <td>-122.402923</td>\n",
              "      <td>4902</td>\n",
              "      <td>Customer</td>\n",
              "      <td>1984.0</td>\n",
              "      <td>Male</td>\n",
              "      <td>No</td>\n",
              "      <td>17</td>\n",
              "      <td>3</td>\n",
              "      <td>869.750000</td>\n",
              "      <td>35.0</td>\n",
              "    </tr>\n",
              "    <tr>\n",
              "      <th>1</th>\n",
              "      <td>42521</td>\n",
              "      <td>2019-02-28 18:53:21.789</td>\n",
              "      <td>2019-03-01 06:42:03.056</td>\n",
              "      <td>23.0</td>\n",
              "      <td>The Embarcadero at Steuart St</td>\n",
              "      <td>37.791464</td>\n",
              "      <td>-122.391034</td>\n",
              "      <td>81.0</td>\n",
              "      <td>Berry St at 4th St</td>\n",
              "      <td>37.775880</td>\n",
              "      <td>-122.393170</td>\n",
              "      <td>2535</td>\n",
              "      <td>Customer</td>\n",
              "      <td>NaN</td>\n",
              "      <td>NaN</td>\n",
              "      <td>No</td>\n",
              "      <td>18</td>\n",
              "      <td>3</td>\n",
              "      <td>708.683333</td>\n",
              "      <td>NaN</td>\n",
              "    </tr>\n",
              "  </tbody>\n",
              "</table>\n",
              "</div>\n",
              "      <button class=\"colab-df-convert\" onclick=\"convertToInteractive('df-35302ac5-81cc-47b0-94b7-426a41ebeeda')\"\n",
              "              title=\"Convert this dataframe to an interactive table.\"\n",
              "              style=\"display:none;\">\n",
              "        \n",
              "  <svg xmlns=\"http://www.w3.org/2000/svg\" height=\"24px\"viewBox=\"0 0 24 24\"\n",
              "       width=\"24px\">\n",
              "    <path d=\"M0 0h24v24H0V0z\" fill=\"none\"/>\n",
              "    <path d=\"M18.56 5.44l.94 2.06.94-2.06 2.06-.94-2.06-.94-.94-2.06-.94 2.06-2.06.94zm-11 1L8.5 8.5l.94-2.06 2.06-.94-2.06-.94L8.5 2.5l-.94 2.06-2.06.94zm10 10l.94 2.06.94-2.06 2.06-.94-2.06-.94-.94-2.06-.94 2.06-2.06.94z\"/><path d=\"M17.41 7.96l-1.37-1.37c-.4-.4-.92-.59-1.43-.59-.52 0-1.04.2-1.43.59L10.3 9.45l-7.72 7.72c-.78.78-.78 2.05 0 2.83L4 21.41c.39.39.9.59 1.41.59.51 0 1.02-.2 1.41-.59l7.78-7.78 2.81-2.81c.8-.78.8-2.07 0-2.86zM5.41 20L4 18.59l7.72-7.72 1.47 1.35L5.41 20z\"/>\n",
              "  </svg>\n",
              "      </button>\n",
              "      \n",
              "  <style>\n",
              "    .colab-df-container {\n",
              "      display:flex;\n",
              "      flex-wrap:wrap;\n",
              "      gap: 12px;\n",
              "    }\n",
              "\n",
              "    .colab-df-convert {\n",
              "      background-color: #E8F0FE;\n",
              "      border: none;\n",
              "      border-radius: 50%;\n",
              "      cursor: pointer;\n",
              "      display: none;\n",
              "      fill: #1967D2;\n",
              "      height: 32px;\n",
              "      padding: 0 0 0 0;\n",
              "      width: 32px;\n",
              "    }\n",
              "\n",
              "    .colab-df-convert:hover {\n",
              "      background-color: #E2EBFA;\n",
              "      box-shadow: 0px 1px 2px rgba(60, 64, 67, 0.3), 0px 1px 3px 1px rgba(60, 64, 67, 0.15);\n",
              "      fill: #174EA6;\n",
              "    }\n",
              "\n",
              "    [theme=dark] .colab-df-convert {\n",
              "      background-color: #3B4455;\n",
              "      fill: #D2E3FC;\n",
              "    }\n",
              "\n",
              "    [theme=dark] .colab-df-convert:hover {\n",
              "      background-color: #434B5C;\n",
              "      box-shadow: 0px 1px 3px 1px rgba(0, 0, 0, 0.15);\n",
              "      filter: drop-shadow(0px 1px 2px rgba(0, 0, 0, 0.3));\n",
              "      fill: #FFFFFF;\n",
              "    }\n",
              "  </style>\n",
              "\n",
              "      <script>\n",
              "        const buttonEl =\n",
              "          document.querySelector('#df-35302ac5-81cc-47b0-94b7-426a41ebeeda button.colab-df-convert');\n",
              "        buttonEl.style.display =\n",
              "          google.colab.kernel.accessAllowed ? 'block' : 'none';\n",
              "\n",
              "        async function convertToInteractive(key) {\n",
              "          const element = document.querySelector('#df-35302ac5-81cc-47b0-94b7-426a41ebeeda');\n",
              "          const dataTable =\n",
              "            await google.colab.kernel.invokeFunction('convertToInteractive',\n",
              "                                                     [key], {});\n",
              "          if (!dataTable) return;\n",
              "\n",
              "          const docLinkHtml = 'Like what you see? Visit the ' +\n",
              "            '<a target=\"_blank\" href=https://colab.research.google.com/notebooks/data_table.ipynb>data table notebook</a>'\n",
              "            + ' to learn more about interactive tables.';\n",
              "          element.innerHTML = '';\n",
              "          dataTable['output_type'] = 'display_data';\n",
              "          await google.colab.output.renderOutput(dataTable, element);\n",
              "          const docLink = document.createElement('div');\n",
              "          docLink.innerHTML = docLinkHtml;\n",
              "          element.appendChild(docLink);\n",
              "        }\n",
              "      </script>\n",
              "    </div>\n",
              "  </div>\n",
              "  "
            ]
          },
          "metadata": {},
          "execution_count": 10
        }
      ],
      "source": [
        "# check for changes\n",
        "ford.head(2)"
      ]
    },
    {
      "cell_type": "markdown",
      "metadata": {
        "id": "ZZFwNT3VQ5WU"
      },
      "source": [
        "## Cleaning 5\n",
        "> Fill missing values in age column"
      ]
    },
    {
      "cell_type": "code",
      "execution_count": null,
      "metadata": {
        "id": "MEQNpqF1Q5Wc"
      },
      "outputs": [],
      "source": [
        "# fill missing values with mean\n",
        "ford['age'] = ford['age'].fillna(ford['age'].mean())"
      ]
    },
    {
      "cell_type": "markdown",
      "metadata": {
        "id": "_gp41bMoQ5Wc"
      },
      "source": [
        "## Test changes\n"
      ]
    },
    {
      "cell_type": "code",
      "execution_count": null,
      "metadata": {
        "colab": {
          "base_uri": "https://localhost:8080/"
        },
        "id": "OQ8I7HwAQ5Wc",
        "outputId": "99865ed0-c6a4-4ac2-86e1-e9d21cad426b"
      },
      "outputs": [
        {
          "output_type": "execute_result",
          "data": {
            "text/plain": [
              "0"
            ]
          },
          "metadata": {},
          "execution_count": 12
        }
      ],
      "source": [
        "# test changes in age column\n",
        "ford.age.isnull().sum()"
      ]
    },
    {
      "cell_type": "markdown",
      "metadata": {
        "id": "ES0RADZMQ5VM"
      },
      "source": [
        "### What is the structure of your dataset?\n",
        "\n",
        "> There are 183412 entries and 16  columns in ride data from 2019. The columns are duration_sec, start_time, end_time, start_station_id, start_station_name, start_station_latitude, start_station_longitude, end_station_id, end_station_name, end_station_latitude ,end_station_longitude, bike_id, user_type, member_birth_year, member_gender, and bike_share_for_all_trip. Nine out of the 16 columns are numerical, 2 are datetime, 5 are object type. Four columns have missing values, there is no duplicated entry.\n",
        "These are the original columns in the data before data cleaning was done.\n",
        "\n",
        "### What is/are the main feature(s) of interest in your dataset?\n",
        "\n",
        "> The main feature in the dataset is trip duration and how other variables have effect on it.\n",
        "\n",
        "### What features in the dataset do you think will help support your investigation into your feature(s) of interest?\n",
        "\n",
        "> Trip duration is likely to be influenced gender, time of the trip,user_type,age, day of the week e.t.c.\n"
      ]
    },
    {
      "cell_type": "markdown",
      "metadata": {
        "id": "v2hOD5IxQ5VU"
      },
      "source": [
        "## Univariate Exploration\n",
        "I will visualize the distribution of the variables of interest in the dataset.\n"
      ]
    },
    {
      "cell_type": "markdown",
      "metadata": {
        "id": "dy4kLxOIQ5Wk"
      },
      "source": [
        "\n",
        "##What is the distribution of trip duration in minutes ?"
      ]
    },
    {
      "cell_type": "code",
      "execution_count": null,
      "metadata": {
        "colab": {
          "base_uri": "https://localhost:8080/",
          "height": 279
        },
        "id": "VCQUCvlBQ5Wk",
        "outputId": "30bc690a-c7a7-466a-accc-67197c148a3d"
      },
      "outputs": [
        {
          "output_type": "display_data",
          "data": {
            "text/plain": [
              "<Figure size 432x288 with 1 Axes>"
            ],
            "image/png": "[encoded data removed]"
          },
          "metadata": {
            "needs_background": "light"
          }
        }
      ],
      "source": [
        "# plot distribution of duration in minutes\n",
        "# start with a standard-scaled plot\n",
        "binsize = 100\n",
        "bins = np.arange(0, ford['duration_in_minutes'].max()+binsize, binsize)\n",
        "plt.hist(data=ford,x='duration_in_minutes',bins=bins)\n",
        "plt.xlabel('Dration (minutes)');"
      ]
    },
    {
      "cell_type": "markdown",
      "metadata": {
        "id": "fi9-EOkdQ5Wk"
      },
      "source": [
        "The histogram is a right skewed distribution with a long tail, there is more data points in values less than 200."
      ]
    },
    {
      "cell_type": "code",
      "execution_count": null,
      "metadata": {
        "colab": {
          "base_uri": "https://localhost:8080/"
        },
        "id": "fou2wMfHQ5W0",
        "outputId": "05dc5920-a26b-400d-f3eb-1664426b7892"
      },
      "outputs": [
        {
          "output_type": "execute_result",
          "data": {
            "text/plain": [
              "count    5.263428\n",
              "mean     1.082832\n",
              "std      1.475766\n",
              "min      0.007179\n",
              "25%      0.733732\n",
              "50%      0.932812\n",
              "75%      1.122762\n",
              "max      3.153530\n",
              "Name: duration_in_minutes, dtype: float64"
            ]
          },
          "metadata": {},
          "execution_count": 14
        }
      ],
      "source": [
        "np.log10(ford['duration_in_minutes'].describe())"
      ]
    },
    {
      "cell_type": "code",
      "execution_count": null,
      "metadata": {
        "colab": {
          "base_uri": "https://localhost:8080/",
          "height": 265
        },
        "id": "wf7ojqMrQ5Ws",
        "outputId": "65f23d33-5c9d-424a-e331-f1529c698857"
      },
      "outputs": [
        {
          "output_type": "display_data",
          "data": {
            "text/plain": [
              "<Figure size 432x288 with 1 Axes>"
            ],
            "image/png": "[encoded data removed]"
          },
          "metadata": {
            "needs_background": "light"
          }
        }
      ],
      "source": [
        "# put the histogram on a log scale\n",
        "bins = 10 ** np.arange(0,3 +0.1,0.1)\n",
        "ticks =  [ 0.1 , 0.3 , 1 , 3, 10, 30, 100, 300]\n",
        "labels= ['{}'.format(v) for v in ticks]\n",
        "\n",
        "plt.hist(data=ford,x='duration_in_minutes',bins = bins)\n",
        "plt.xscale('log')\n",
        "plt.xticks(ticks,labels);"
      ]
    },
    {
      "cell_type": "markdown",
      "metadata": {
        "id": "4DmlUf6JQ5Ws"
      },
      "source": [
        "The histogram shows a unimodal distribution of data. Most of the values are less than 100 minutes with peak around 10 minutes. "
      ]
    },
    {
      "cell_type": "markdown",
      "metadata": {
        "id": "NPWgAA7TQ5W8"
      },
      "source": [
        "## What is the age distribution of users?"
      ]
    },
    {
      "cell_type": "code",
      "execution_count": null,
      "metadata": {
        "colab": {
          "base_uri": "https://localhost:8080/",
          "height": 295
        },
        "id": "1xY81lC6Q5XE",
        "outputId": "a10edccd-44e7-4e37-8d4c-725c766965b1"
      },
      "outputs": [
        {
          "output_type": "display_data",
          "data": {
            "text/plain": [
              "<Figure size 432x288 with 1 Axes>"
            ],
            "image/png": "[encoded data removed]"
          },
          "metadata": {
            "needs_background": "light"
          }
        }
      ],
      "source": [
        "# users age distribution\n",
        "plt.hist(data=ford,x='age',bins=40)\n",
        "plt.xlim(18,70)\n",
        "plt.xlabel('Age')\n",
        "plt.title('Distribution of User Age');\n"
      ]
    },
    {
      "cell_type": "markdown",
      "metadata": {
        "id": "slcKTJ7lQ5XE"
      },
      "source": [
        ">The visualization shows that according to the dataset, bike users are predominantely young people, an average user is 34-35 years."
      ]
    },
    {
      "cell_type": "markdown",
      "metadata": {
        "id": "d-rnns2dQ5XM"
      },
      "source": [
        "## What is the gender distribution?"
      ]
    },
    {
      "cell_type": "code",
      "execution_count": null,
      "metadata": {
        "colab": {
          "base_uri": "https://localhost:8080/",
          "height": 295
        },
        "id": "eN17h4r-Q5XM",
        "outputId": "dd742069-df7c-466f-8a15-904280af87ef"
      },
      "outputs": [
        {
          "output_type": "display_data",
          "data": {
            "text/plain": [
              "<Figure size 432x288 with 1 Axes>"
            ],
            "image/png": "[encoded data removed]"
          },
          "metadata": {
            "needs_background": "light"
          }
        }
      ],
      "source": [
        "# set order for the display of bars\n",
        "freq = ford['member_gender'].value_counts()\n",
        "gen_order = freq.index\n",
        "# select custom color for bars\n",
        "base_color = sb.color_palette()[9]\n",
        "# plot bars\n",
        "sb.countplot(data=ford,x='member_gender',color=base_color,order=gen_order)\n",
        "plt.title('Distribution of Gender')\n",
        "plt.xlabel('Gender')\n",
        "plt.ylabel('Count');"
      ]
    },
    {
      "cell_type": "markdown",
      "metadata": {
        "id": "w-luphOeQ5XU"
      },
      "source": [
        ">There are more males than females in the dataset."
      ]
    },
    {
      "cell_type": "markdown",
      "metadata": {
        "id": "uYaJzkVNQ5XU"
      },
      "source": [
        "## What type of users utilize the bike platform most?"
      ]
    },
    {
      "cell_type": "code",
      "execution_count": null,
      "metadata": {
        "colab": {
          "base_uri": "https://localhost:8080/",
          "height": 295
        },
        "id": "VPv6UGnCQ5XU",
        "outputId": "dad1431d-cbd6-49b3-b596-6fca9b3edfc0"
      },
      "outputs": [
        {
          "output_type": "display_data",
          "data": {
            "text/plain": [
              "<Figure size 432x288 with 1 Axes>"
            ],
            "image/png": "[encoded data removed]"
          },
          "metadata": {
            "needs_background": "light"
          }
        }
      ],
      "source": [
        "# set order for the display of bars\n",
        "freq2 = ford['user_type'].value_counts()\n",
        "gen_order2 = freq2.index\n",
        "# select customcolor for bars\n",
        "base_color = sb.color_palette()[9]\n",
        "# plot bars\n",
        "sb.countplot(data=ford,x='user_type',color=base_color,order=gen_order2)\n",
        "plt.title('Distribution of Users')\n",
        "plt.xlabel('Users')\n",
        "plt.ylabel('Count');"
      ]
    },
    {
      "cell_type": "markdown",
      "metadata": {
        "id": "Xt72ouXeQ5Xc"
      },
      "source": [
        ">The visualization shows that there are more subscribers than customers."
      ]
    },
    {
      "cell_type": "markdown",
      "metadata": {
        "id": "YxkfSD-aQ5Xc"
      },
      "source": [
        "## What day is most trips started?"
      ]
    },
    {
      "cell_type": "code",
      "execution_count": null,
      "metadata": {
        "colab": {
          "base_uri": "https://localhost:8080/",
          "height": 292
        },
        "id": "nlVZmfIWQ5Xc",
        "outputId": "6016791b-0d61-469b-f544-1c86f75396f9"
      },
      "outputs": [
        {
          "output_type": "display_data",
          "data": {
            "text/plain": [
              "<Figure size 432x288 with 1 Axes>"
            ],
            "image/png": "[encoded data removed]"
          },
          "metadata": {
            "needs_background": "light"
          }
        }
      ],
      "source": [
        "# set order for the display of bars for days trips start\n",
        "freq3 = ford['start_day'].value_counts()\n",
        "gen_order3 = freq3.index\n",
        "# select custom color for bars for days trips start\n",
        "base_color = sb.color_palette()[9]\n",
        "# plot bars for days trips start\n",
        "sb.countplot(data=ford,x='start_day',color=base_color,order=gen_order3)\n",
        "plt.title('Days Trips start')\n",
        "plt.xlabel('Days')\n",
        "plt.ylabel('Count')\n",
        "plt.xticks(rotation=90);"
      ]
    },
    {
      "cell_type": "markdown",
      "metadata": {
        "id": "B4umHLDPQ5Xk"
      },
      "source": [
        ">The visualization shows that trips are more frequently started on Wenesdays."
      ]
    },
    {
      "cell_type": "markdown",
      "metadata": {
        "id": "8u71_ce-Q5Xk"
      },
      "source": [
        "## What hour of the day are trips likely to start?"
      ]
    },
    {
      "cell_type": "code",
      "execution_count": null,
      "metadata": {
        "colab": {
          "base_uri": "https://localhost:8080/",
          "height": 298
        },
        "id": "_DLj_Z6kQ5Xs",
        "outputId": "ab0443f8-105b-46f3-c4a6-c94425e89f77"
      },
      "outputs": [
        {
          "output_type": "display_data",
          "data": {
            "text/plain": [
              "<Figure size 432x288 with 1 Axes>"
            ],
            "image/png": "[encoded data removed]"
          },
          "metadata": {
            "needs_background": "light"
          }
        }
      ],
      "source": [
        "# set order for the display of bars for days trips start\n",
        "freq4 = ford['hour_start'].value_counts()\n",
        "gen_order4 = freq4.index\n",
        "# select custom color for bars for days trips start\n",
        "base_color = sb.color_palette()[9]\n",
        "# plot bars for days trips start\n",
        "sb.countplot(data=ford,x='hour_start',color=base_color,order=gen_order4)\n",
        "plt.title('Hours Trips start')\n",
        "plt.xlabel('Hours')\n",
        "plt.ylabel('Number')\n",
        "plt.xticks(rotation=90);"
      ]
    },
    {
      "cell_type": "markdown",
      "metadata": {
        "id": "KmG3gDExQ5Xs"
      },
      "source": [
        ">The data shows that trips are usually started in the evening by 5:00 pm."
      ]
    },
    {
      "cell_type": "markdown",
      "metadata": {
        "id": "NlZbS2YEQ5X0"
      },
      "source": [
        "## What is the distribution of bike sharing for all users?"
      ]
    },
    {
      "cell_type": "code",
      "execution_count": null,
      "metadata": {
        "colab": {
          "base_uri": "https://localhost:8080/",
          "height": 295
        },
        "id": "HqWVXn0HQ5X0",
        "outputId": "649cacbd-5a27-4b54-e0f5-e6a55e2fea89"
      },
      "outputs": [
        {
          "output_type": "display_data",
          "data": {
            "text/plain": [
              "<Figure size 432x288 with 1 Axes>"
            ],
            "image/png": "[encoded data removed]"
          },
          "metadata": {
            "needs_background": "light"
          }
        }
      ],
      "source": [
        "# set custom color\n",
        "base_color = sb.color_palette()[9]\n",
        "# plot bars for bike sharers\n",
        "sb.countplot(data=ford,x='bike_share_for_all_trip',color=base_color)\n",
        "plt.title('Distribution of bike sharers')\n",
        "plt.xlabel(\"Bike sharers\")\n",
        "plt.ylabel('Number');"
      ]
    },
    {
      "cell_type": "markdown",
      "source": [
        "The visualization shows that greater number of bike users did not share bikes."
      ],
      "metadata": {
        "id": "29Vu1iGXKPfF"
      }
    },
    {
      "cell_type": "markdown",
      "metadata": {
        "id": "BnrlGHQTQ5X8"
      },
      "source": [
        "### Discuss the distribution(s) of your variable(s) of interest. Were there any unusual points? Did you need to perform any transformations?\n",
        "\n",
        "> Trip duration in minutes has a right skewed long tail distribution. I put a logarithimic transformation, after the transformation the distribution became unimodal most of the values are less than 100 minutes with peak around 10 minutes.\n",
        "\n",
        "### Of the features you investigated, were there any unusual distributions? Did you perform any operations on the data to tidy, adjust, or change the form of the data? If so, why did you do this?\n",
        "\n",
        "> There was no unusual distributions with age,user type,hour trip began, day trip started, and bike share."
      ]
    },
    {
      "cell_type": "markdown",
      "metadata": {
        "id": "hAqvqkrvQ5X8"
      },
      "source": [
        "## Bivariate Exploration\n",
        "\n"
      ]
    },
    {
      "cell_type": "markdown",
      "metadata": {
        "id": "ncdw8tHFQ5X8"
      },
      "source": [
        "## What is the correlation between the hour trip started and trip duration in minutes?"
      ]
    },
    {
      "cell_type": "code",
      "execution_count": null,
      "metadata": {
        "colab": {
          "base_uri": "https://localhost:8080/",
          "height": 295
        },
        "id": "j0P6Ye2-Q5YE",
        "outputId": "b38ebda1-81e8-4d2c-be0c-cb8d89340b4a"
      },
      "outputs": [
        {
          "output_type": "display_data",
          "data": {
            "text/plain": [
              "<Figure size 432x288 with 2 Axes>"
            ],
            "image/png": "[encoded data removed]"
          },
          "metadata": {
            "needs_background": "light"
          }
        }
      ],
      "source": [
        "# visualize duration and minutes  trip started\n",
        "plt.hist2d(data= ford, x='duration_in_minutes',y='hour_start')\n",
        "plt.colorbar()\n",
        "plt.title('Hour versus Duration')\n",
        "plt.xlabel('Duration')\n",
        "plt.ylabel('Hour');\n"
      ]
    },
    {
      "cell_type": "markdown",
      "source": [
        "There is a positive correlation between the time of the day trip started and trip duration. Trips started after the 5th hour, just before the 10th hour of the day have a positive correlation with duration.Trips started before the 20th hour is also has a positive correlation with duration."
      ],
      "metadata": {
        "id": "AfzCKMLMNGSU"
      }
    },
    {
      "cell_type": "markdown",
      "metadata": {
        "id": "vKkECxFVQ5YM"
      },
      "source": [
        "## What is the relationship between the day of the week that trip started and trip duration?"
      ]
    },
    {
      "cell_type": "code",
      "execution_count": null,
      "metadata": {
        "colab": {
          "base_uri": "https://localhost:8080/",
          "height": 295
        },
        "id": "93Zng97iQ5YU",
        "outputId": "60d442d6-62ac-41cd-84a8-f8fe1966db16"
      },
      "outputs": [
        {
          "output_type": "display_data",
          "data": {
            "text/plain": [
              "<Figure size 432x288 with 1 Axes>"
            ],
            "image/png": "[encoded data removed]"
          },
          "metadata": {
            "needs_background": "light"
          }
        }
      ],
      "source": [
        "# visualize day and trip duration\n",
        "plt.scatter(data=ford,x='start_day',y='duration_in_minutes',alpha=1/10)\n",
        "plt.title('Weekday versus Duration')\n",
        "plt.xlabel('Duration')\n",
        "plt.ylabel('Week day');"
      ]
    },
    {
      "cell_type": "markdown",
      "source": [
        "The visualization shows that trips started on the third day of the week are more likely to have longer duration."
      ],
      "metadata": {
        "id": "OwrfmCHpbPff"
      }
    },
    {
      "cell_type": "markdown",
      "metadata": {
        "id": "fCAskHSWQ5Yc"
      },
      "source": [
        "## What is the correlation between gender and trip duration?"
      ]
    },
    {
      "cell_type": "code",
      "execution_count": null,
      "metadata": {
        "colab": {
          "base_uri": "https://localhost:8080/",
          "height": 279
        },
        "id": "ghvVtH2NQ5Yk",
        "outputId": "a1c70e91-4b31-4d98-dbd1-56650bce0a7a"
      },
      "outputs": [
        {
          "output_type": "display_data",
          "data": {
            "text/plain": [
              "<Figure size 432x288 with 1 Axes>"
            ],
            "image/png": "[encoded data removed]"
          },
          "metadata": {
            "needs_background": "light"
          }
        }
      ],
      "source": [
        "# visualize gender and duration\n",
        "sb.boxplot(data = ford, x = 'member_gender', y = 'duration_in_minutes')\n",
        "plt.xlabel('Gender')\n",
        "plt.ylabel('Duration (minutes)')\n",
        "plt.show()\n"
      ]
    },
    {
      "cell_type": "markdown",
      "metadata": {
        "id": "ZQYecfyxQ5Yk"
      },
      "source": [
        ">The box is not visible because of extreme outliers. The outliers will be dropped."
      ]
    },
    {
      "cell_type": "code",
      "execution_count": null,
      "metadata": {
        "colab": {
          "base_uri": "https://localhost:8080/",
          "height": 279
        },
        "id": "ayeo28v1Q5Yk",
        "outputId": "0b2311b0-9edc-4b93-d327-207accfce0f1"
      },
      "outputs": [
        {
          "output_type": "display_data",
          "data": {
            "text/plain": [
              "<Figure size 432x288 with 1 Axes>"
            ],
            "image/png": "[encoded data removed]"
          },
          "metadata": {
            "needs_background": "light"
          }
        }
      ],
      "source": [
        "# parameter for dropping outliers\n",
        "showfliers = False\n",
        "# visualize gender and duration\n",
        "sb.boxplot(data = ford, x = 'member_gender', y = 'duration_in_minutes',showfliers=False)\n",
        "plt.xlabel('Gender')\n",
        "plt.ylabel('Duration (minutes)');"
      ]
    },
    {
      "cell_type": "markdown",
      "metadata": {
        "id": "fLMlpp7eQ5Ys"
      },
      "source": [
        "> I followed this link as a guide to remove outliers\n",
        "[link text](https://stackoverflow.com/questions/53488148/box-whisker-plot-using-seaborn-does-not-show-the-box-and-whiskers)\n",
        "Though from the earlier distribution there are more males in the dataset, this distribution is showing that females and gender labelled as other have higher trip duration.\n"
      ]
    },
    {
      "cell_type": "markdown",
      "metadata": {
        "id": "MySzubBwQ5Ys"
      },
      "source": [
        "##What is the relationship between user type and trip duration?"
      ]
    },
    {
      "cell_type": "code",
      "execution_count": null,
      "metadata": {
        "colab": {
          "base_uri": "https://localhost:8080/",
          "height": 279
        },
        "id": "n1eGEP1sQ5Y0",
        "outputId": "e67f99bb-47ac-4ea8-b813-162682d742bb"
      },
      "outputs": [
        {
          "output_type": "display_data",
          "data": {
            "text/plain": [
              "<Figure size 432x288 with 1 Axes>"
            ],
            "image/png": "[encoded data removed]"
          },
          "metadata": {
            "needs_background": "light"
          }
        }
      ],
      "source": [
        "# visualize user type and trip duration\n",
        "sb.boxplot(data = ford, x = 'user_type', y = 'duration_in_minutes')\n",
        "plt.xlabel('Users')\n",
        "plt.ylabel('Duration (minutes)');"
      ]
    },
    {
      "cell_type": "markdown",
      "metadata": {
        "id": "ACFQUJwrQ5Y8"
      },
      "source": [
        ">The box is not visible because of extreme outliers. The outliers will be dropped."
      ]
    },
    {
      "cell_type": "code",
      "execution_count": null,
      "metadata": {
        "colab": {
          "base_uri": "https://localhost:8080/",
          "height": 279
        },
        "id": "9OiQtEh9Q5Y8",
        "outputId": "60344798-e547-4e1c-f984-c5cefa365fa6"
      },
      "outputs": [
        {
          "output_type": "display_data",
          "data": {
            "text/plain": [
              "<Figure size 432x288 with 1 Axes>"
            ],
            "image/png": "[encoded data removed]"
          },
          "metadata": {
            "needs_background": "light"
          }
        }
      ],
      "source": [
        "# parameter for removing outlier\n",
        "showfliers = False\n",
        "# visualize without outliers\n",
        "sb.boxplot(data = ford, x = 'user_type', y = 'duration_in_minutes',showfliers=False)\n",
        "plt.xlabel('Users')\n",
        "plt.ylabel('Duration (minutes)');"
      ]
    },
    {
      "cell_type": "markdown",
      "source": [
        "This shows that customers have a higher trip duration."
      ],
      "metadata": {
        "id": "9za6Eat5XI5Z"
      }
    },
    {
      "cell_type": "markdown",
      "metadata": {
        "id": "bFPkvdtoQ5ZE"
      },
      "source": [
        "## What is the correlation between age and trip duration?"
      ]
    },
    {
      "cell_type": "code",
      "execution_count": null,
      "metadata": {
        "colab": {
          "base_uri": "https://localhost:8080/",
          "height": 295
        },
        "id": "Z4hacf0HQ5ZE",
        "outputId": "0d53ae46-7ace-4352-d815-f172736dad94"
      },
      "outputs": [
        {
          "output_type": "display_data",
          "data": {
            "text/plain": [
              "<Figure size 432x288 with 1 Axes>"
            ],
            "image/png": "[encoded data removed]"
          },
          "metadata": {
            "needs_background": "light"
          }
        }
      ],
      "source": [
        "# scatter plot of duration vs. age\n",
        "plt.scatter(data = ford, x = 'age', y = 'duration_in_minutes', alpha = 1/5)\n",
        "plt.xlabel('Age')\n",
        "plt.xlim(18, 70)\n",
        "plt.ylabel('Trip Duration (min)')\n",
        "plt.title('Duration versus User Age');\n"
      ]
    },
    {
      "cell_type": "markdown",
      "metadata": {
        "id": "iWxyAR10Q5ZM"
      },
      "source": [
        "> There is positive corrlation between age and trip duration. Young bike users are more likely to spend more time during their trip than older bike users."
      ]
    },
    {
      "cell_type": "markdown",
      "source": [
        "##What is the relationship between bike sharers and trip duration?"
      ],
      "metadata": {
        "id": "yXO0epBPUKLj"
      }
    },
    {
      "cell_type": "code",
      "source": [
        "# visualize bike sharers\n",
        "sb.boxplot(data = ford, x = 'bike_share_for_all_trip', y = 'duration_in_minutes')\n",
        "plt.xlabel('Bike sharers')\n",
        "plt.ylabel('Duration (minutes)');"
      ],
      "metadata": {
        "colab": {
          "base_uri": "https://localhost:8080/",
          "height": 279
        },
        "id": "2__d2c9KUZ_Z",
        "outputId": "4d3ca4c4-304c-4e1b-fa70-5a60e5ef3de4"
      },
      "execution_count": null,
      "outputs": [
        {
          "output_type": "display_data",
          "data": {
            "text/plain": [
              "<Figure size 432x288 with 1 Axes>"
            ],
            "image/png": "[encoded data removed]"
          },
          "metadata": {
            "needs_background": "light"
          }
        }
      ]
    },
    {
      "cell_type": "code",
      "source": [
        "# visualize bike sharers without outliers\n",
        "showfliers = False\n",
        "sb.boxplot(data = ford, x = 'bike_share_for_all_trip', y = 'duration_in_minutes',showfliers=False)\n",
        "plt.xlabel('Bike sharers')\n",
        "plt.ylabel('Duration (minutes)');"
      ],
      "metadata": {
        "colab": {
          "base_uri": "https://localhost:8080/",
          "height": 279
        },
        "id": "PN0gnfTXVpvO",
        "outputId": "2ca8f851-104c-445e-d537-92ba19dda91e"
      },
      "execution_count": null,
      "outputs": [
        {
          "output_type": "display_data",
          "data": {
            "text/plain": [
              "<Figure size 432x288 with 1 Axes>"
            ],
            "image/png": "[encoded data removed]"
          },
          "metadata": {
            "needs_background": "light"
          }
        }
      ]
    },
    {
      "cell_type": "markdown",
      "source": [
        "There is a correlation between bike sharers, non bike sharers, and trip duration. Non bike sharers are more likely to spend more time during their trips."
      ],
      "metadata": {
        "id": "wGN5WoxaX77a"
      }
    },
    {
      "cell_type": "markdown",
      "metadata": {
        "id": "RjWVRa7ZQ5ZM"
      },
      "source": [
        "### Talk about some of the relationships you observed in this part of the investigation. How did the feature(s) of interest vary with other features in the dataset?\n",
        "\n",
        "> Trip duration is positively correlated with variables such as age, time of the day and day of the week that trips started.\n",
        "\n",
        "### Did you observe any interesting relationships between the other features (not the main feature(s) of interest)?\n",
        "\n",
        "> I expected the male gender to have longer trip duration because the values of males in the dataset is higher, but it was the other way round, though females and other have less values in the dataset they have longer trip duration."
      ]
    },
    {
      "cell_type": "markdown",
      "metadata": {
        "id": "Dq-7yJxQQ5ZM"
      },
      "source": [
        "## Multivariate Exploration\n",
        "\n"
      ]
    },
    {
      "cell_type": "markdown",
      "metadata": {
        "id": "qsm8lRUsQ5ZU"
      },
      "source": [
        "## What is the relationship between age, trip duration and hour trip started?"
      ]
    },
    {
      "cell_type": "code",
      "execution_count": null,
      "metadata": {
        "colab": {
          "base_uri": "https://localhost:8080/",
          "height": 265
        },
        "id": "FziXI7kQQ5Zc",
        "outputId": "1fb64dcc-6773-4a02-eb9b-420d3a926ce8"
      },
      "outputs": [
        {
          "output_type": "display_data",
          "data": {
            "text/plain": [
              "<Figure size 432x288 with 1 Axes>"
            ],
            "image/png": "[encoded data removed]"
          },
          "metadata": {
            "needs_background": "light"
          }
        }
      ],
      "source": [
        "# Visualize age,trip duration and hour trip started\n",
        "plt.scatter(data=ford,x='age',y='duration_in_minutes',s ='hour_start')\n",
        "# add legend\n",
        "sizes = [20, 35, 50]\n",
        "base_color = sb.color_palette()[0]\n",
        "legend_obj = []\n",
        "for s in sizes:\n",
        "    legend_obj.append(plt.scatter([], [], s = s, color = base_color))\n",
        "plt.legend(legend_obj,sizes);"
      ]
    },
    {
      "cell_type": "markdown",
      "source": [
        "There is no correlation between age, hour trip started, and trip duration."
      ],
      "metadata": {
        "id": "CL40MrM7hqjK"
      }
    },
    {
      "cell_type": "markdown",
      "source": [
        "## What is the relation between gender, user type and trip duration?"
      ],
      "metadata": {
        "id": "g50HrbnKZVyV"
      }
    },
    {
      "cell_type": "code",
      "source": [
        "# visualize gender, user type and trip duration\n",
        "ax = sb.barplot(data= ford, x= 'member_gender',y = 'duration_in_minutes', hue = 'user_type')\n",
        "ax.legend(loc = 8, ncol =3, framealpha = 1, title = 'user_type')\n",
        "plt.title('Gender versus User type and trip duration');"
      ],
      "metadata": {
        "colab": {
          "base_uri": "https://localhost:8080/",
          "height": 296
        },
        "id": "2eol5XjlY-oL",
        "outputId": "1c2b2be4-5ce8-4d0f-eb7a-c22962730754"
      },
      "execution_count": null,
      "outputs": [
        {
          "output_type": "display_data",
          "data": {
            "text/plain": [
              "<Figure size 432x288 with 1 Axes>"
            ],
            "image/png": "[encoded data removed]"
          },
          "metadata": {
            "needs_background": "light"
          }
        }
      ]
    },
    {
      "cell_type": "markdown",
      "source": [
        "This visualization shows that the other gender have more users who are customers and customers have longer trip duration, followed by the female gender."
      ],
      "metadata": {
        "id": "rdLzsBlHfddP"
      }
    },
    {
      "cell_type": "markdown",
      "source": [
        "## What is the relation between bike sharing, user type and trip duration?"
      ],
      "metadata": {
        "id": "y2w3k6QigbM5"
      }
    },
    {
      "cell_type": "code",
      "source": [
        "# visualize gender, user type and trip duration\n",
        "ax = sb.barplot(data= ford, x= 'user_type',y = 'duration_in_minutes', hue = 'bike_share_for_all_trip')\n",
        "ax.legend(loc = 8, ncol =3, framealpha = 1, title = 'bike_share_for_all_trip')\n",
        "plt.title('User type versus bike sharing and trip duration');"
      ],
      "metadata": {
        "colab": {
          "base_uri": "https://localhost:8080/",
          "height": 296
        },
        "id": "8aiDItctgY7Y",
        "outputId": "ffaf2667-ae7c-439c-d63d-2b1e55bdeb5e"
      },
      "execution_count": null,
      "outputs": [
        {
          "output_type": "display_data",
          "data": {
            "text/plain": [
              "<Figure size 432x288 with 1 Axes>"
            ],
            "image/png": "[encoded data removed]"
          },
          "metadata": {
            "needs_background": "light"
          }
        }
      ]
    },
    {
      "cell_type": "markdown",
      "source": [
        "The visualizations shows that subscribers are the one's who share bike and they have shorter trip duration."
      ],
      "metadata": {
        "id": "-rQgovmufJ5q"
      }
    },
    {
      "cell_type": "markdown",
      "metadata": {
        "id": "6RfEh5aEQ5Z0"
      },
      "source": [
        "### Talk about some of the relationships you observed in this part of the investigation. Were there features that strengthened each other in terms of looking at your feature(s) of interest?\n",
        "\n",
        "> The other gender have more users who are customers, and these users spend have the longest trip duration. Hour trip started did not have effect on the positive correlation between age and trip duration.\n",
        "\n",
        "### Were there any interesting or surprising interactions between features?\n",
        "\n",
        "> I found that all customer user type are not bike sharers and they have the longest trip duration."
      ]
    },
    {
      "cell_type": "markdown",
      "metadata": {
        "id": "j0sjEdYiQ5Z0"
      },
      "source": [
        "## Conclusions\n",
        "1.\tMost trips last for a duration of 10 minutes.\n",
        "2.\tThe average age of a bike user is 34-34 years, young bike users tend to have longer trip duration.\n",
        "3.\tThe gender that has the highest values are males followed by females and lastly other. Other gender with the least values has longer trip duration with more users who are subscribers.\n",
        "4.\tMost users of the bike platform are subscribers, and subscribers are the ones that share bikes and they have shorter trip duration.\n",
        "5.\tTrips are mostly started on the third day of the week.\n",
        "6.\tThe time of the day for the starting of trips the 17th hour, and there is a relationship between hour trip started and how long (duration) the trip will last.\n",
        "7.\tMost users are not bike sharers.\n",
        "\n"
      ]
    }
  ],
  "metadata": {
    "kernelspec": {
      "display_name": "Python 3.9.x 32-bit",
      "language": "python",
      "name": "python3"
    },
    "language_info": {
      "codemirror_mode": {
        "name": "ipython",
        "version": 3
      },
      "file_extension": ".py",
      "mimetype": "text/x-python",
      "name": "python",
      "nbconvert_exporter": "python",
      "pygments_lexer": "ipython3",
      "version": "3.9.12"
    },
    "vscode": {
      "interpreter": {
        "hash": "737c39a316ee3076bf52f879157685a11d39bba9c72b4c5e24a91a478655744f"
      }
    },
    "colab": {
      "provenance": []
    }
  },
  "nbformat": 4,
  "nbformat_minor": 0
}